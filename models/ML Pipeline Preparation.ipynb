{
 "cells": [
  {
   "cell_type": "markdown",
   "metadata": {},
   "source": [
    "# ML Pipeline Preparation\n",
    "Follow the instructions below to help you create your ML pipeline.\n",
    "### 1. Import libraries and load data from database.\n",
    "- Import Python libraries\n",
    "- Load dataset from database with [`read_sql_table`](https://pandas.pydata.org/pandas-docs/stable/generated/pandas.read_sql_table.html)\n",
    "- Define feature and target variables X and Y"
   ]
  },
  {
   "cell_type": "code",
   "execution_count": 10,
   "metadata": {},
   "outputs": [
    {
     "name": "stdout",
     "output_type": "stream",
     "text": [
      "[nltk_data] Downloading package punkt to\n",
      "[nltk_data]     /Users/shenhaichen/nltk_data...\n",
      "[nltk_data]   Package punkt is already up-to-date!\n",
      "[nltk_data] Downloading package wordnet to\n",
      "[nltk_data]     /Users/shenhaichen/nltk_data...\n",
      "[nltk_data]   Package wordnet is already up-to-date!\n",
      "[nltk_data] Downloading package stopwords to\n",
      "[nltk_data]     /Users/shenhaichen/nltk_data...\n",
      "[nltk_data]   Package stopwords is already up-to-date!\n"
     ]
    },
    {
     "data": {
      "text/plain": [
       "True"
      ]
     },
     "execution_count": 10,
     "metadata": {},
     "output_type": "execute_result"
    }
   ],
   "source": [
    "# import libraries\n",
    "import numpy as np\n",
    "import pandas as pd\n",
    "import re\n",
    "from sqlalchemy import create_engine\n",
    "import nltk\n",
    "from nltk.tokenize import word_tokenize\n",
    "from nltk.corpus import stopwords\n",
    "from nltk.stem import WordNetLemmatizer\n",
    "from sklearn.pipeline import Pipeline, FeatureUnion\n",
    "from sklearn.model_selection import train_test_split,GridSearchCV\n",
    "from sklearn.metrics import confusion_matrix,classification_report,fbeta_score,make_scorer\n",
    "from sklearn.ensemble import RandomForestClassifier, GradientBoostingClassifier,AdaBoostClassifier\n",
    "from sklearn.feature_extraction.text import TfidfTransformer, CountVectorizer\n",
    "from sklearn.multioutput import MultiOutputClassifier\n",
    "from sklearn.base import BaseEstimator, TransformerMixin\n",
    "import pickle\n",
    "nltk.download(['punkt', 'wordnet','stopwords'])"
   ]
  },
  {
   "cell_type": "code",
   "execution_count": 2,
   "metadata": {},
   "outputs": [
    {
     "data": {
      "text/plain": [
       "Index(['id', 'message', 'original', 'genre', 'related', 'request', 'offer',\n",
       "       'aid_related', 'medical_help', 'medical_products', 'search_and_rescue',\n",
       "       'security', 'military', 'child_alone', 'water', 'food', 'shelter',\n",
       "       'clothing', 'money', 'missing_people', 'refugees', 'death', 'other_aid',\n",
       "       'infrastructure_related', 'transport', 'buildings', 'electricity',\n",
       "       'tools', 'hospitals', 'shops', 'aid_centers', 'other_infrastructure',\n",
       "       'weather_related', 'floods', 'storm', 'fire', 'earthquake', 'cold',\n",
       "       'other_weather', 'direct_report'],\n",
       "      dtype='object')"
      ]
     },
     "execution_count": 2,
     "metadata": {},
     "output_type": "execute_result"
    }
   ],
   "source": [
    "# load data from database\n",
    "engine = create_engine('sqlite:///disater_response.db')\n",
    "df = pd.read_sql_table('disater_response', engine)\n",
    "df.columns"
   ]
  },
  {
   "cell_type": "code",
   "execution_count": 3,
   "metadata": {},
   "outputs": [],
   "source": [
    "X = df['message']\n",
    "Y = df.drop(columns = ['id','message','original','genre'], axis = 1)"
   ]
  },
  {
   "cell_type": "code",
   "execution_count": 4,
   "metadata": {},
   "outputs": [
    {
     "data": {
      "text/plain": [
       "Index(['related', 'request', 'offer', 'aid_related', 'medical_help',\n",
       "       'medical_products', 'search_and_rescue', 'security', 'military',\n",
       "       'child_alone', 'water', 'food', 'shelter', 'clothing', 'money',\n",
       "       'missing_people', 'refugees', 'death', 'other_aid',\n",
       "       'infrastructure_related', 'transport', 'buildings', 'electricity',\n",
       "       'tools', 'hospitals', 'shops', 'aid_centers', 'other_infrastructure',\n",
       "       'weather_related', 'floods', 'storm', 'fire', 'earthquake', 'cold',\n",
       "       'other_weather', 'direct_report'],\n",
       "      dtype='object')"
      ]
     },
     "execution_count": 4,
     "metadata": {},
     "output_type": "execute_result"
    }
   ],
   "source": [
    "column_names= Y.columns\n",
    "column_names"
   ]
  },
  {
   "cell_type": "markdown",
   "metadata": {},
   "source": [
    "### 2. Write a tokenization function to process your text data"
   ]
  },
  {
   "cell_type": "code",
   "execution_count": 5,
   "metadata": {},
   "outputs": [],
   "source": [
    "def tokenize(text):\n",
    "    url_regex = 'http[s]?://(?:[a-zA-Z]|[0-9]|[$-_@.&+]|[!*\\(\\),]|(?:%[0-9a-fA-F][0-9a-fA-F]))+'\n",
    "    detected_urls = re.findall(url_regex, text)\n",
    "    for url in detected_urls:\n",
    "        text = text.replace(url, \"urlplaceholder\")\n",
    "\n",
    "    tokens = word_tokenize(text)\n",
    "    lemmatizer = WordNetLemmatizer()\n",
    "\n",
    "    clean_tokens = []\n",
    "    for tok in tokens:\n",
    "        clean_tok = lemmatizer.lemmatize(tok).lower().strip()\n",
    "        clean_tokens.append(clean_tok)\n",
    "\n",
    "    return clean_tokens"
   ]
  },
  {
   "cell_type": "markdown",
   "metadata": {},
   "source": [
    "### 3. Build a machine learning pipeline\n",
    "This machine pipeline should take in the `message` column as input and output classification results on the other 36 categories in the dataset. You may find the [MultiOutputClassifier](http://scikit-learn.org/stable/modules/generated/sklearn.multioutput.MultiOutputClassifier.html) helpful for predicting multiple target variables."
   ]
  },
  {
   "cell_type": "code",
   "execution_count": 23,
   "metadata": {},
   "outputs": [],
   "source": [
    "pipeline = Pipeline([\n",
    "        ('vect', CountVectorizer(tokenizer=tokenize)),\n",
    "        ('tfidf', TfidfTransformer()),\n",
    "        ('clf', MultiOutputClassifier(RandomForestClassifier()))])"
   ]
  },
  {
   "cell_type": "markdown",
   "metadata": {},
   "source": [
    "### 4. Train pipeline\n",
    "- Split data into train and test sets\n",
    "- Train pipeline"
   ]
  },
  {
   "cell_type": "code",
   "execution_count": 6,
   "metadata": {},
   "outputs": [],
   "source": [
    "X_train, X_test, y_train, y_test = train_test_split(X, Y, test_size = 0.2, random_state = 42)"
   ]
  },
  {
   "cell_type": "code",
   "execution_count": 25,
   "metadata": {},
   "outputs": [
    {
     "data": {
      "text/plain": [
       "Pipeline(memory=None,\n",
       "     steps=[('vect', CountVectorizer(analyzer='word', binary=False, decode_error='strict',\n",
       "        dtype=<class 'numpy.int64'>, encoding='utf-8', input='content',\n",
       "        lowercase=True, max_df=1.0, max_features=None, min_df=1,\n",
       "        ngram_range=(1, 1), preprocessor=None, stop_words=None,\n",
       "        strip...oob_score=False, random_state=None, verbose=0,\n",
       "            warm_start=False),\n",
       "           n_jobs=1))])"
      ]
     },
     "execution_count": 25,
     "metadata": {},
     "output_type": "execute_result"
    }
   ],
   "source": [
    "np.random.seed(42)\n",
    "pipeline.fit(X_train, y_train)"
   ]
  },
  {
   "cell_type": "markdown",
   "metadata": {},
   "source": [
    "### 5. Test your model\n",
    "Report the f1 score, precision and recall for each output category of the dataset. You can do this by iterating through the columns and calling sklearn's `classification_report` on each."
   ]
  },
  {
   "cell_type": "code",
   "execution_count": 26,
   "metadata": {},
   "outputs": [],
   "source": [
    "y_pred = pipeline.predict(X_test)"
   ]
  },
  {
   "cell_type": "code",
   "execution_count": 27,
   "metadata": {},
   "outputs": [
    {
     "name": "stdout",
     "output_type": "stream",
     "text": [
      "                        precision    recall  f1-score   support\n",
      "\n",
      "               related       0.82      0.93      0.87      3998\n",
      "               request       0.83      0.34      0.48       891\n",
      "                 offer       0.00      0.00      0.00        24\n",
      "           aid_related       0.77      0.52      0.62      2164\n",
      "          medical_help       0.56      0.06      0.11       435\n",
      "      medical_products       0.76      0.10      0.18       279\n",
      "     search_and_rescue       0.50      0.06      0.11       136\n",
      "              security       0.17      0.01      0.02        96\n",
      "              military       0.53      0.06      0.10       158\n",
      "           child_alone       0.00      0.00      0.00         0\n",
      "                 water       0.82      0.28      0.42       335\n",
      "                  food       0.86      0.32      0.47       584\n",
      "               shelter       0.79      0.24      0.37       468\n",
      "              clothing       1.00      0.03      0.06        70\n",
      "                 money       0.60      0.08      0.14       112\n",
      "        missing_people       0.50      0.02      0.03        63\n",
      "              refugees       0.56      0.06      0.11       170\n",
      "                 death       0.90      0.08      0.14       247\n",
      "             other_aid       0.47      0.02      0.04       692\n",
      "infrastructure_related       1.00      0.00      0.01       336\n",
      "             transport       0.78      0.08      0.14       235\n",
      "             buildings       0.79      0.08      0.15       269\n",
      "           electricity       1.00      0.04      0.08       115\n",
      "                 tools       0.00      0.00      0.00        35\n",
      "             hospitals       0.00      0.00      0.00        52\n",
      "                 shops       0.00      0.00      0.00        25\n",
      "           aid_centers       0.00      0.00      0.00        64\n",
      "  other_infrastructure       0.25      0.00      0.01       225\n",
      "       weather_related       0.84      0.50      0.63      1472\n",
      "                floods       0.93      0.30      0.46       431\n",
      "                 storm       0.77      0.34      0.48       479\n",
      "                  fire       0.75      0.06      0.11        53\n",
      "            earthquake       0.90      0.57      0.70       515\n",
      "                  cold       0.67      0.06      0.11       104\n",
      "         other_weather       0.50      0.02      0.04       267\n",
      "         direct_report       0.76      0.29      0.42      1010\n",
      "\n",
      "           avg / total       0.76      0.44      0.50     16609\n",
      "\n"
     ]
    },
    {
     "name": "stderr",
     "output_type": "stream",
     "text": [
      "/usr/local/lib/python3.6/site-packages/sklearn/metrics/classification.py:1135: UndefinedMetricWarning: Precision and F-score are ill-defined and being set to 0.0 in labels with no predicted samples.\n",
      "  'precision', 'predicted', average, warn_for)\n",
      "/usr/local/lib/python3.6/site-packages/sklearn/metrics/classification.py:1137: UndefinedMetricWarning: Recall and F-score are ill-defined and being set to 0.0 in labels with no true samples.\n",
      "  'recall', 'true', average, warn_for)\n"
     ]
    }
   ],
   "source": [
    "print(classification_report(y_test, y_pred, target_names=column_names))"
   ]
  },
  {
   "cell_type": "markdown",
   "metadata": {},
   "source": [
    "### 6. Improve your model\n",
    "Use grid search to find better parameters. "
   ]
  },
  {
   "cell_type": "code",
   "execution_count": 28,
   "metadata": {},
   "outputs": [
    {
     "data": {
      "text/plain": [
       "{'memory': None,\n",
       " 'steps': [('vect',\n",
       "   CountVectorizer(analyzer='word', binary=False, decode_error='strict',\n",
       "           dtype=<class 'numpy.int64'>, encoding='utf-8', input='content',\n",
       "           lowercase=True, max_df=1.0, max_features=None, min_df=1,\n",
       "           ngram_range=(1, 1), preprocessor=None, stop_words=None,\n",
       "           strip_accents=None, token_pattern='(?u)\\\\b\\\\w\\\\w+\\\\b',\n",
       "           tokenizer=<function tokenize at 0x7f4913aa4400>, vocabulary=None)),\n",
       "  ('tfidf',\n",
       "   TfidfTransformer(norm='l2', smooth_idf=True, sublinear_tf=False, use_idf=True)),\n",
       "  ('clf',\n",
       "   MultiOutputClassifier(estimator=RandomForestClassifier(bootstrap=True, class_weight=None, criterion='gini',\n",
       "               max_depth=None, max_features='auto', max_leaf_nodes=None,\n",
       "               min_impurity_decrease=0.0, min_impurity_split=None,\n",
       "               min_samples_leaf=1, min_samples_split=2,\n",
       "               min_weight_fraction_leaf=0.0, n_estimators=10, n_jobs=1,\n",
       "               oob_score=False, random_state=None, verbose=0,\n",
       "               warm_start=False),\n",
       "              n_jobs=1))],\n",
       " 'vect': CountVectorizer(analyzer='word', binary=False, decode_error='strict',\n",
       "         dtype=<class 'numpy.int64'>, encoding='utf-8', input='content',\n",
       "         lowercase=True, max_df=1.0, max_features=None, min_df=1,\n",
       "         ngram_range=(1, 1), preprocessor=None, stop_words=None,\n",
       "         strip_accents=None, token_pattern='(?u)\\\\b\\\\w\\\\w+\\\\b',\n",
       "         tokenizer=<function tokenize at 0x7f4913aa4400>, vocabulary=None),\n",
       " 'tfidf': TfidfTransformer(norm='l2', smooth_idf=True, sublinear_tf=False, use_idf=True),\n",
       " 'clf': MultiOutputClassifier(estimator=RandomForestClassifier(bootstrap=True, class_weight=None, criterion='gini',\n",
       "             max_depth=None, max_features='auto', max_leaf_nodes=None,\n",
       "             min_impurity_decrease=0.0, min_impurity_split=None,\n",
       "             min_samples_leaf=1, min_samples_split=2,\n",
       "             min_weight_fraction_leaf=0.0, n_estimators=10, n_jobs=1,\n",
       "             oob_score=False, random_state=None, verbose=0,\n",
       "             warm_start=False),\n",
       "            n_jobs=1),\n",
       " 'vect__analyzer': 'word',\n",
       " 'vect__binary': False,\n",
       " 'vect__decode_error': 'strict',\n",
       " 'vect__dtype': numpy.int64,\n",
       " 'vect__encoding': 'utf-8',\n",
       " 'vect__input': 'content',\n",
       " 'vect__lowercase': True,\n",
       " 'vect__max_df': 1.0,\n",
       " 'vect__max_features': None,\n",
       " 'vect__min_df': 1,\n",
       " 'vect__ngram_range': (1, 1),\n",
       " 'vect__preprocessor': None,\n",
       " 'vect__stop_words': None,\n",
       " 'vect__strip_accents': None,\n",
       " 'vect__token_pattern': '(?u)\\\\b\\\\w\\\\w+\\\\b',\n",
       " 'vect__tokenizer': <function __main__.tokenize(text)>,\n",
       " 'vect__vocabulary': None,\n",
       " 'tfidf__norm': 'l2',\n",
       " 'tfidf__smooth_idf': True,\n",
       " 'tfidf__sublinear_tf': False,\n",
       " 'tfidf__use_idf': True,\n",
       " 'clf__estimator__bootstrap': True,\n",
       " 'clf__estimator__class_weight': None,\n",
       " 'clf__estimator__criterion': 'gini',\n",
       " 'clf__estimator__max_depth': None,\n",
       " 'clf__estimator__max_features': 'auto',\n",
       " 'clf__estimator__max_leaf_nodes': None,\n",
       " 'clf__estimator__min_impurity_decrease': 0.0,\n",
       " 'clf__estimator__min_impurity_split': None,\n",
       " 'clf__estimator__min_samples_leaf': 1,\n",
       " 'clf__estimator__min_samples_split': 2,\n",
       " 'clf__estimator__min_weight_fraction_leaf': 0.0,\n",
       " 'clf__estimator__n_estimators': 10,\n",
       " 'clf__estimator__n_jobs': 1,\n",
       " 'clf__estimator__oob_score': False,\n",
       " 'clf__estimator__random_state': None,\n",
       " 'clf__estimator__verbose': 0,\n",
       " 'clf__estimator__warm_start': False,\n",
       " 'clf__estimator': RandomForestClassifier(bootstrap=True, class_weight=None, criterion='gini',\n",
       "             max_depth=None, max_features='auto', max_leaf_nodes=None,\n",
       "             min_impurity_decrease=0.0, min_impurity_split=None,\n",
       "             min_samples_leaf=1, min_samples_split=2,\n",
       "             min_weight_fraction_leaf=0.0, n_estimators=10, n_jobs=1,\n",
       "             oob_score=False, random_state=None, verbose=0,\n",
       "             warm_start=False),\n",
       " 'clf__n_jobs': 1}"
      ]
     },
     "execution_count": 28,
     "metadata": {},
     "output_type": "execute_result"
    }
   ],
   "source": [
    "# check parameter then decide which parameters have to be optimized \n",
    "pipeline.get_params()"
   ]
  },
  {
   "cell_type": "code",
   "execution_count": 29,
   "metadata": {},
   "outputs": [],
   "source": [
    "parameters = { 'clf__estimator__min_samples_split': [2,4],\n",
    "               'clf__estimator__n_estimators': [10,100,150],\n",
    "               'clf__estimator__random_state': [None, 42],\n",
    "               'tfidf__use_idf':[True, False],\n",
    "                }"
   ]
  },
  {
   "cell_type": "code",
   "execution_count": 30,
   "metadata": {},
   "outputs": [],
   "source": [
    "cv = GridSearchCV(pipeline, param_grid = parameters, verbose=10, cv=5)"
   ]
  },
  {
   "cell_type": "code",
   "execution_count": 31,
   "metadata": {},
   "outputs": [
    {
     "name": "stdout",
     "output_type": "stream",
     "text": [
      "Fitting 5 folds for each of 24 candidates, totalling 120 fits\n",
      "[CV] clf__estimator__min_samples_split=2, clf__estimator__n_estimators=10, clf__estimator__random_state=None, tfidf__use_idf=True \n",
      "[CV]  clf__estimator__min_samples_split=2, clf__estimator__n_estimators=10, clf__estimator__random_state=None, tfidf__use_idf=True, score=0.22479141835518474, total=  42.6s\n",
      "[CV] clf__estimator__min_samples_split=2, clf__estimator__n_estimators=10, clf__estimator__random_state=None, tfidf__use_idf=True \n"
     ]
    },
    {
     "name": "stderr",
     "output_type": "stream",
     "text": [
      "[Parallel(n_jobs=1)]: Done   1 out of   1 | elapsed:   52.8s remaining:    0.0s\n"
     ]
    },
    {
     "name": "stdout",
     "output_type": "stream",
     "text": [
      "[CV]  clf__estimator__min_samples_split=2, clf__estimator__n_estimators=10, clf__estimator__random_state=None, tfidf__use_idf=True, score=0.22216924910607866, total=  42.1s\n",
      "[CV] clf__estimator__min_samples_split=2, clf__estimator__n_estimators=10, clf__estimator__random_state=None, tfidf__use_idf=True \n"
     ]
    },
    {
     "name": "stderr",
     "output_type": "stream",
     "text": [
      "[Parallel(n_jobs=1)]: Done   2 out of   2 | elapsed:  1.7min remaining:    0.0s\n"
     ]
    },
    {
     "name": "stdout",
     "output_type": "stream",
     "text": [
      "[CV]  clf__estimator__min_samples_split=2, clf__estimator__n_estimators=10, clf__estimator__random_state=None, tfidf__use_idf=True, score=0.2312827849308536, total=  42.1s\n",
      "[CV] clf__estimator__min_samples_split=2, clf__estimator__n_estimators=10, clf__estimator__random_state=None, tfidf__use_idf=True \n"
     ]
    },
    {
     "name": "stderr",
     "output_type": "stream",
     "text": [
      "[Parallel(n_jobs=1)]: Done   3 out of   3 | elapsed:  2.6min remaining:    0.0s\n"
     ]
    },
    {
     "name": "stdout",
     "output_type": "stream",
     "text": [
      "[CV]  clf__estimator__min_samples_split=2, clf__estimator__n_estimators=10, clf__estimator__random_state=None, tfidf__use_idf=True, score=0.22126847877920838, total=  41.7s\n",
      "[CV] clf__estimator__min_samples_split=2, clf__estimator__n_estimators=10, clf__estimator__random_state=None, tfidf__use_idf=True \n"
     ]
    },
    {
     "name": "stderr",
     "output_type": "stream",
     "text": [
      "[Parallel(n_jobs=1)]: Done   4 out of   4 | elapsed:  3.5min remaining:    0.0s\n"
     ]
    },
    {
     "name": "stdout",
     "output_type": "stream",
     "text": [
      "[CV]  clf__estimator__min_samples_split=2, clf__estimator__n_estimators=10, clf__estimator__random_state=None, tfidf__use_idf=True, score=0.2358130662851693, total=  42.0s\n",
      "[CV] clf__estimator__min_samples_split=2, clf__estimator__n_estimators=10, clf__estimator__random_state=None, tfidf__use_idf=False \n"
     ]
    },
    {
     "name": "stderr",
     "output_type": "stream",
     "text": [
      "[Parallel(n_jobs=1)]: Done   5 out of   5 | elapsed:  4.3min remaining:    0.0s\n"
     ]
    },
    {
     "name": "stdout",
     "output_type": "stream",
     "text": [
      "[CV]  clf__estimator__min_samples_split=2, clf__estimator__n_estimators=10, clf__estimator__random_state=None, tfidf__use_idf=False, score=0.2274135876042908, total=  41.5s\n",
      "[CV] clf__estimator__min_samples_split=2, clf__estimator__n_estimators=10, clf__estimator__random_state=None, tfidf__use_idf=False \n"
     ]
    },
    {
     "name": "stderr",
     "output_type": "stream",
     "text": [
      "[Parallel(n_jobs=1)]: Done   6 out of   6 | elapsed:  5.2min remaining:    0.0s\n"
     ]
    },
    {
     "name": "stdout",
     "output_type": "stream",
     "text": [
      "[CV]  clf__estimator__min_samples_split=2, clf__estimator__n_estimators=10, clf__estimator__random_state=None, tfidf__use_idf=False, score=0.22264600715137067, total=  41.4s\n",
      "[CV] clf__estimator__min_samples_split=2, clf__estimator__n_estimators=10, clf__estimator__random_state=None, tfidf__use_idf=False \n"
     ]
    },
    {
     "name": "stderr",
     "output_type": "stream",
     "text": [
      "[Parallel(n_jobs=1)]: Done   7 out of   7 | elapsed:  6.1min remaining:    0.0s\n"
     ]
    },
    {
     "name": "stdout",
     "output_type": "stream",
     "text": [
      "[CV]  clf__estimator__min_samples_split=2, clf__estimator__n_estimators=10, clf__estimator__random_state=None, tfidf__use_idf=False, score=0.22746781115879827, total=  41.5s\n",
      "[CV] clf__estimator__min_samples_split=2, clf__estimator__n_estimators=10, clf__estimator__random_state=None, tfidf__use_idf=False \n"
     ]
    },
    {
     "name": "stderr",
     "output_type": "stream",
     "text": [
      "[Parallel(n_jobs=1)]: Done   8 out of   8 | elapsed:  6.9min remaining:    0.0s\n"
     ]
    },
    {
     "name": "stdout",
     "output_type": "stream",
     "text": [
      "[CV]  clf__estimator__min_samples_split=2, clf__estimator__n_estimators=10, clf__estimator__random_state=None, tfidf__use_idf=False, score=0.23104434907010013, total=  41.1s\n",
      "[CV] clf__estimator__min_samples_split=2, clf__estimator__n_estimators=10, clf__estimator__random_state=None, tfidf__use_idf=False \n"
     ]
    },
    {
     "name": "stderr",
     "output_type": "stream",
     "text": [
      "[Parallel(n_jobs=1)]: Done   9 out of   9 | elapsed:  7.8min remaining:    0.0s\n"
     ]
    },
    {
     "name": "stdout",
     "output_type": "stream",
     "text": [
      "[CV]  clf__estimator__min_samples_split=2, clf__estimator__n_estimators=10, clf__estimator__random_state=None, tfidf__use_idf=False, score=0.22937529804482595, total=  40.6s\n",
      "[CV] clf__estimator__min_samples_split=2, clf__estimator__n_estimators=10, clf__estimator__random_state=42, tfidf__use_idf=True \n",
      "[CV]  clf__estimator__min_samples_split=2, clf__estimator__n_estimators=10, clf__estimator__random_state=42, tfidf__use_idf=True, score=0.22169249106078665, total=  40.4s\n",
      "[CV] clf__estimator__min_samples_split=2, clf__estimator__n_estimators=10, clf__estimator__random_state=42, tfidf__use_idf=True \n",
      "[CV]  clf__estimator__min_samples_split=2, clf__estimator__n_estimators=10, clf__estimator__random_state=42, tfidf__use_idf=True, score=0.22073897497020262, total=  40.5s\n",
      "[CV] clf__estimator__min_samples_split=2, clf__estimator__n_estimators=10, clf__estimator__random_state=42, tfidf__use_idf=True \n",
      "[CV]  clf__estimator__min_samples_split=2, clf__estimator__n_estimators=10, clf__estimator__random_state=42, tfidf__use_idf=True, score=0.23509775870290892, total=  40.6s\n",
      "[CV] clf__estimator__min_samples_split=2, clf__estimator__n_estimators=10, clf__estimator__random_state=42, tfidf__use_idf=True \n",
      "[CV]  clf__estimator__min_samples_split=2, clf__estimator__n_estimators=10, clf__estimator__random_state=42, tfidf__use_idf=True, score=0.23319027181688126, total=  41.0s\n",
      "[CV] clf__estimator__min_samples_split=2, clf__estimator__n_estimators=10, clf__estimator__random_state=42, tfidf__use_idf=True \n",
      "[CV]  clf__estimator__min_samples_split=2, clf__estimator__n_estimators=10, clf__estimator__random_state=42, tfidf__use_idf=True, score=0.22198378636146876, total=  40.8s\n",
      "[CV] clf__estimator__min_samples_split=2, clf__estimator__n_estimators=10, clf__estimator__random_state=42, tfidf__use_idf=False \n",
      "[CV]  clf__estimator__min_samples_split=2, clf__estimator__n_estimators=10, clf__estimator__random_state=42, tfidf__use_idf=False, score=0.2097735399284863, total=  40.7s\n",
      "[CV] clf__estimator__min_samples_split=2, clf__estimator__n_estimators=10, clf__estimator__random_state=42, tfidf__use_idf=False \n",
      "[CV]  clf__estimator__min_samples_split=2, clf__estimator__n_estimators=10, clf__estimator__random_state=42, tfidf__use_idf=False, score=0.22193087008343265, total=  40.2s\n",
      "[CV] clf__estimator__min_samples_split=2, clf__estimator__n_estimators=10, clf__estimator__random_state=42, tfidf__use_idf=False \n",
      "[CV]  clf__estimator__min_samples_split=2, clf__estimator__n_estimators=10, clf__estimator__random_state=42, tfidf__use_idf=False, score=0.23080591320934668, total=  40.4s\n",
      "[CV] clf__estimator__min_samples_split=2, clf__estimator__n_estimators=10, clf__estimator__random_state=42, tfidf__use_idf=False \n",
      "[CV]  clf__estimator__min_samples_split=2, clf__estimator__n_estimators=10, clf__estimator__random_state=42, tfidf__use_idf=False, score=0.22269909394372914, total=  40.4s\n",
      "[CV] clf__estimator__min_samples_split=2, clf__estimator__n_estimators=10, clf__estimator__random_state=42, tfidf__use_idf=False \n",
      "[CV]  clf__estimator__min_samples_split=2, clf__estimator__n_estimators=10, clf__estimator__random_state=42, tfidf__use_idf=False, score=0.23366714353838816, total=  40.7s\n",
      "[CV] clf__estimator__min_samples_split=2, clf__estimator__n_estimators=100, clf__estimator__random_state=None, tfidf__use_idf=True \n",
      "[CV]  clf__estimator__min_samples_split=2, clf__estimator__n_estimators=100, clf__estimator__random_state=None, tfidf__use_idf=True, score=0.24171632896305126, total= 5.6min\n",
      "[CV] clf__estimator__min_samples_split=2, clf__estimator__n_estimators=100, clf__estimator__random_state=None, tfidf__use_idf=True \n",
      "[CV]  clf__estimator__min_samples_split=2, clf__estimator__n_estimators=100, clf__estimator__random_state=None, tfidf__use_idf=True, score=0.24910607866507747, total= 5.6min\n",
      "[CV] clf__estimator__min_samples_split=2, clf__estimator__n_estimators=100, clf__estimator__random_state=None, tfidf__use_idf=True \n",
      "[CV]  clf__estimator__min_samples_split=2, clf__estimator__n_estimators=100, clf__estimator__random_state=None, tfidf__use_idf=True, score=0.25345731998092513, total= 5.7min\n",
      "[CV] clf__estimator__min_samples_split=2, clf__estimator__n_estimators=100, clf__estimator__random_state=None, tfidf__use_idf=True \n",
      "[CV]  clf__estimator__min_samples_split=2, clf__estimator__n_estimators=100, clf__estimator__random_state=None, tfidf__use_idf=True, score=0.24415832141154029, total= 5.6min\n",
      "[CV] clf__estimator__min_samples_split=2, clf__estimator__n_estimators=100, clf__estimator__random_state=None, tfidf__use_idf=True \n",
      "[CV]  clf__estimator__min_samples_split=2, clf__estimator__n_estimators=100, clf__estimator__random_state=None, tfidf__use_idf=True, score=0.24725798760133524, total= 5.7min\n",
      "[CV] clf__estimator__min_samples_split=2, clf__estimator__n_estimators=100, clf__estimator__random_state=None, tfidf__use_idf=False \n",
      "[CV]  clf__estimator__min_samples_split=2, clf__estimator__n_estimators=100, clf__estimator__random_state=None, tfidf__use_idf=False, score=0.24147794994040525, total= 5.5min\n",
      "[CV] clf__estimator__min_samples_split=2, clf__estimator__n_estimators=100, clf__estimator__random_state=None, tfidf__use_idf=False \n",
      "[CV]  clf__estimator__min_samples_split=2, clf__estimator__n_estimators=100, clf__estimator__random_state=None, tfidf__use_idf=False, score=0.24100119189511324, total= 5.4min\n",
      "[CV] clf__estimator__min_samples_split=2, clf__estimator__n_estimators=100, clf__estimator__random_state=None, tfidf__use_idf=False \n",
      "[CV]  clf__estimator__min_samples_split=2, clf__estimator__n_estimators=100, clf__estimator__random_state=None, tfidf__use_idf=False, score=0.2446351931330472, total= 5.6min\n",
      "[CV] clf__estimator__min_samples_split=2, clf__estimator__n_estimators=100, clf__estimator__random_state=None, tfidf__use_idf=False \n",
      "[CV]  clf__estimator__min_samples_split=2, clf__estimator__n_estimators=100, clf__estimator__random_state=None, tfidf__use_idf=False, score=0.23819742489270387, total= 5.5min\n",
      "[CV] clf__estimator__min_samples_split=2, clf__estimator__n_estimators=100, clf__estimator__random_state=None, tfidf__use_idf=False \n",
      "[CV]  clf__estimator__min_samples_split=2, clf__estimator__n_estimators=100, clf__estimator__random_state=None, tfidf__use_idf=False, score=0.24034334763948498, total= 5.5min\n",
      "[CV] clf__estimator__min_samples_split=2, clf__estimator__n_estimators=100, clf__estimator__random_state=42, tfidf__use_idf=True \n",
      "[CV]  clf__estimator__min_samples_split=2, clf__estimator__n_estimators=100, clf__estimator__random_state=42, tfidf__use_idf=True, score=0.2364719904648391, total= 5.5min\n",
      "[CV] clf__estimator__min_samples_split=2, clf__estimator__n_estimators=100, clf__estimator__random_state=42, tfidf__use_idf=True \n",
      "[CV]  clf__estimator__min_samples_split=2, clf__estimator__n_estimators=100, clf__estimator__random_state=42, tfidf__use_idf=True, score=0.2436233611442193, total= 5.5min\n",
      "[CV] clf__estimator__min_samples_split=2, clf__estimator__n_estimators=100, clf__estimator__random_state=42, tfidf__use_idf=True \n",
      "[CV]  clf__estimator__min_samples_split=2, clf__estimator__n_estimators=100, clf__estimator__random_state=42, tfidf__use_idf=True, score=0.2527420123986648, total= 5.7min\n",
      "[CV] clf__estimator__min_samples_split=2, clf__estimator__n_estimators=100, clf__estimator__random_state=42, tfidf__use_idf=True \n",
      "[CV]  clf__estimator__min_samples_split=2, clf__estimator__n_estimators=100, clf__estimator__random_state=42, tfidf__use_idf=True, score=0.24391988555078684, total= 5.7min\n",
      "[CV] clf__estimator__min_samples_split=2, clf__estimator__n_estimators=100, clf__estimator__random_state=42, tfidf__use_idf=True \n",
      "[CV]  clf__estimator__min_samples_split=2, clf__estimator__n_estimators=100, clf__estimator__random_state=42, tfidf__use_idf=True, score=0.2491654744873629, total= 5.8min\n",
      "[CV] clf__estimator__min_samples_split=2, clf__estimator__n_estimators=100, clf__estimator__random_state=42, tfidf__use_idf=False \n",
      "[CV]  clf__estimator__min_samples_split=2, clf__estimator__n_estimators=100, clf__estimator__random_state=42, tfidf__use_idf=False, score=0.2364719904648391, total= 5.8min\n",
      "[CV] clf__estimator__min_samples_split=2, clf__estimator__n_estimators=100, clf__estimator__random_state=42, tfidf__use_idf=False \n",
      "[CV]  clf__estimator__min_samples_split=2, clf__estimator__n_estimators=100, clf__estimator__random_state=42, tfidf__use_idf=False, score=0.23814064362336115, total= 5.7min\n",
      "[CV] clf__estimator__min_samples_split=2, clf__estimator__n_estimators=100, clf__estimator__random_state=42, tfidf__use_idf=False \n",
      "[CV]  clf__estimator__min_samples_split=2, clf__estimator__n_estimators=100, clf__estimator__random_state=42, tfidf__use_idf=False, score=0.24320457796852646, total= 5.7min\n",
      "[CV] clf__estimator__min_samples_split=2, clf__estimator__n_estimators=100, clf__estimator__random_state=42, tfidf__use_idf=False \n",
      "[CV]  clf__estimator__min_samples_split=2, clf__estimator__n_estimators=100, clf__estimator__random_state=42, tfidf__use_idf=False, score=0.2379589890319504, total= 5.7min\n",
      "[CV] clf__estimator__min_samples_split=2, clf__estimator__n_estimators=100, clf__estimator__random_state=42, tfidf__use_idf=False \n",
      "[CV]  clf__estimator__min_samples_split=2, clf__estimator__n_estimators=100, clf__estimator__random_state=42, tfidf__use_idf=False, score=0.24630424415832142, total= 5.8min\n",
      "[CV] clf__estimator__min_samples_split=2, clf__estimator__n_estimators=150, clf__estimator__random_state=None, tfidf__use_idf=True \n",
      "[CV]  clf__estimator__min_samples_split=2, clf__estimator__n_estimators=150, clf__estimator__random_state=None, tfidf__use_idf=True, score=0.24243146603098928, total= 8.3min\n",
      "[CV] clf__estimator__min_samples_split=2, clf__estimator__n_estimators=150, clf__estimator__random_state=None, tfidf__use_idf=True \n",
      "[CV]  clf__estimator__min_samples_split=2, clf__estimator__n_estimators=150, clf__estimator__random_state=None, tfidf__use_idf=True, score=0.2467222884386174, total= 8.5min\n",
      "[CV] clf__estimator__min_samples_split=2, clf__estimator__n_estimators=150, clf__estimator__random_state=None, tfidf__use_idf=True \n",
      "[CV]  clf__estimator__min_samples_split=2, clf__estimator__n_estimators=150, clf__estimator__random_state=None, tfidf__use_idf=True, score=0.2527420123986648, total= 8.3min\n",
      "[CV] clf__estimator__min_samples_split=2, clf__estimator__n_estimators=150, clf__estimator__random_state=None, tfidf__use_idf=True \n",
      "[CV]  clf__estimator__min_samples_split=2, clf__estimator__n_estimators=150, clf__estimator__random_state=None, tfidf__use_idf=True, score=0.2451120648545541, total= 7.8min\n",
      "[CV] clf__estimator__min_samples_split=2, clf__estimator__n_estimators=150, clf__estimator__random_state=None, tfidf__use_idf=True \n",
      "[CV]  clf__estimator__min_samples_split=2, clf__estimator__n_estimators=150, clf__estimator__random_state=None, tfidf__use_idf=True, score=0.2505960896518836, total= 7.8min\n",
      "[CV] clf__estimator__min_samples_split=2, clf__estimator__n_estimators=150, clf__estimator__random_state=None, tfidf__use_idf=False \n",
      "[CV]  clf__estimator__min_samples_split=2, clf__estimator__n_estimators=150, clf__estimator__random_state=None, tfidf__use_idf=False, score=0.24505363528009536, total= 7.7min\n",
      "[CV] clf__estimator__min_samples_split=2, clf__estimator__n_estimators=150, clf__estimator__random_state=None, tfidf__use_idf=False \n",
      "[CV]  clf__estimator__min_samples_split=2, clf__estimator__n_estimators=150, clf__estimator__random_state=None, tfidf__use_idf=False, score=0.24433849821215733, total= 7.7min\n",
      "[CV] clf__estimator__min_samples_split=2, clf__estimator__n_estimators=150, clf__estimator__random_state=None, tfidf__use_idf=False \n",
      "[CV]  clf__estimator__min_samples_split=2, clf__estimator__n_estimators=150, clf__estimator__random_state=None, tfidf__use_idf=False, score=0.2474964234620887, total= 7.8min\n",
      "[CV] clf__estimator__min_samples_split=2, clf__estimator__n_estimators=150, clf__estimator__random_state=None, tfidf__use_idf=False \n",
      "[CV]  clf__estimator__min_samples_split=2, clf__estimator__n_estimators=150, clf__estimator__random_state=None, tfidf__use_idf=False, score=0.23867429661421077, total= 8.2min\n",
      "[CV] clf__estimator__min_samples_split=2, clf__estimator__n_estimators=150, clf__estimator__random_state=None, tfidf__use_idf=False \n",
      "[CV]  clf__estimator__min_samples_split=2, clf__estimator__n_estimators=150, clf__estimator__random_state=None, tfidf__use_idf=False, score=0.24654268001907487, total= 8.1min\n",
      "[CV] clf__estimator__min_samples_split=2, clf__estimator__n_estimators=150, clf__estimator__random_state=42, tfidf__use_idf=True \n",
      "[CV]  clf__estimator__min_samples_split=2, clf__estimator__n_estimators=150, clf__estimator__random_state=42, tfidf__use_idf=True, score=0.24052443384982122, total= 7.7min\n",
      "[CV] clf__estimator__min_samples_split=2, clf__estimator__n_estimators=150, clf__estimator__random_state=42, tfidf__use_idf=True \n",
      "[CV]  clf__estimator__min_samples_split=2, clf__estimator__n_estimators=150, clf__estimator__random_state=42, tfidf__use_idf=True, score=0.24576877234803338, total= 7.7min\n",
      "[CV] clf__estimator__min_samples_split=2, clf__estimator__n_estimators=150, clf__estimator__random_state=42, tfidf__use_idf=True \n",
      "[CV]  clf__estimator__min_samples_split=2, clf__estimator__n_estimators=150, clf__estimator__random_state=42, tfidf__use_idf=True, score=0.2520267048164044, total= 7.7min\n",
      "[CV] clf__estimator__min_samples_split=2, clf__estimator__n_estimators=150, clf__estimator__random_state=42, tfidf__use_idf=True \n",
      "[CV]  clf__estimator__min_samples_split=2, clf__estimator__n_estimators=150, clf__estimator__random_state=42, tfidf__use_idf=True, score=0.24654268001907487, total= 7.8min\n",
      "[CV] clf__estimator__min_samples_split=2, clf__estimator__n_estimators=150, clf__estimator__random_state=42, tfidf__use_idf=True \n",
      "[CV]  clf__estimator__min_samples_split=2, clf__estimator__n_estimators=150, clf__estimator__random_state=42, tfidf__use_idf=True, score=0.2515498330948975, total= 8.0min\n",
      "[CV] clf__estimator__min_samples_split=2, clf__estimator__n_estimators=150, clf__estimator__random_state=42, tfidf__use_idf=False \n",
      "[CV]  clf__estimator__min_samples_split=2, clf__estimator__n_estimators=150, clf__estimator__random_state=42, tfidf__use_idf=False, score=0.23718712753277713, total= 8.1min\n",
      "[CV] clf__estimator__min_samples_split=2, clf__estimator__n_estimators=150, clf__estimator__random_state=42, tfidf__use_idf=False \n",
      "[CV]  clf__estimator__min_samples_split=2, clf__estimator__n_estimators=150, clf__estimator__random_state=42, tfidf__use_idf=False, score=0.2398092967818832, total= 7.8min\n",
      "[CV] clf__estimator__min_samples_split=2, clf__estimator__n_estimators=150, clf__estimator__random_state=42, tfidf__use_idf=False \n",
      "[CV]  clf__estimator__min_samples_split=2, clf__estimator__n_estimators=150, clf__estimator__random_state=42, tfidf__use_idf=False, score=0.24606580829756797, total= 7.7min\n",
      "[CV] clf__estimator__min_samples_split=2, clf__estimator__n_estimators=150, clf__estimator__random_state=42, tfidf__use_idf=False \n",
      "[CV]  clf__estimator__min_samples_split=2, clf__estimator__n_estimators=150, clf__estimator__random_state=42, tfidf__use_idf=False, score=0.2391511683357177, total= 7.8min\n",
      "[CV] clf__estimator__min_samples_split=2, clf__estimator__n_estimators=150, clf__estimator__random_state=42, tfidf__use_idf=False \n",
      "[CV]  clf__estimator__min_samples_split=2, clf__estimator__n_estimators=150, clf__estimator__random_state=42, tfidf__use_idf=False, score=0.24725798760133524, total= 7.8min\n",
      "[CV] clf__estimator__min_samples_split=4, clf__estimator__n_estimators=10, clf__estimator__random_state=None, tfidf__use_idf=True \n",
      "[CV]  clf__estimator__min_samples_split=4, clf__estimator__n_estimators=10, clf__estimator__random_state=None, tfidf__use_idf=True, score=0.21573301549463647, total=  32.4s\n",
      "[CV] clf__estimator__min_samples_split=4, clf__estimator__n_estimators=10, clf__estimator__random_state=None, tfidf__use_idf=True \n",
      "[CV]  clf__estimator__min_samples_split=4, clf__estimator__n_estimators=10, clf__estimator__random_state=None, tfidf__use_idf=True, score=0.21477949940405244, total=  32.0s\n",
      "[CV] clf__estimator__min_samples_split=4, clf__estimator__n_estimators=10, clf__estimator__random_state=None, tfidf__use_idf=True \n",
      "[CV]  clf__estimator__min_samples_split=4, clf__estimator__n_estimators=10, clf__estimator__random_state=None, tfidf__use_idf=True, score=0.2224606580829757, total=  33.2s\n",
      "[CV] clf__estimator__min_samples_split=4, clf__estimator__n_estimators=10, clf__estimator__random_state=None, tfidf__use_idf=True \n",
      "[CV]  clf__estimator__min_samples_split=4, clf__estimator__n_estimators=10, clf__estimator__random_state=None, tfidf__use_idf=True, score=0.20577014783023367, total=  34.7s\n",
      "[CV] clf__estimator__min_samples_split=4, clf__estimator__n_estimators=10, clf__estimator__random_state=None, tfidf__use_idf=True \n",
      "[CV]  clf__estimator__min_samples_split=4, clf__estimator__n_estimators=10, clf__estimator__random_state=None, tfidf__use_idf=True, score=0.21578445398187887, total=  34.4s\n",
      "[CV] clf__estimator__min_samples_split=4, clf__estimator__n_estimators=10, clf__estimator__random_state=None, tfidf__use_idf=False \n",
      "[CV]  clf__estimator__min_samples_split=4, clf__estimator__n_estimators=10, clf__estimator__random_state=None, tfidf__use_idf=False, score=0.21263408820023838, total=  33.4s\n",
      "[CV] clf__estimator__min_samples_split=4, clf__estimator__n_estimators=10, clf__estimator__random_state=None, tfidf__use_idf=False \n",
      "[CV]  clf__estimator__min_samples_split=4, clf__estimator__n_estimators=10, clf__estimator__random_state=None, tfidf__use_idf=False, score=0.21930870083432658, total=  33.7s\n",
      "[CV] clf__estimator__min_samples_split=4, clf__estimator__n_estimators=10, clf__estimator__random_state=None, tfidf__use_idf=False \n",
      "[CV]  clf__estimator__min_samples_split=4, clf__estimator__n_estimators=10, clf__estimator__random_state=None, tfidf__use_idf=False, score=0.21649976156413925, total=  33.7s\n",
      "[CV] clf__estimator__min_samples_split=4, clf__estimator__n_estimators=10, clf__estimator__random_state=None, tfidf__use_idf=False \n",
      "[CV]  clf__estimator__min_samples_split=4, clf__estimator__n_estimators=10, clf__estimator__random_state=None, tfidf__use_idf=False, score=0.21745350500715308, total=  33.8s\n",
      "[CV] clf__estimator__min_samples_split=4, clf__estimator__n_estimators=10, clf__estimator__random_state=None, tfidf__use_idf=False \n",
      "[CV]  clf__estimator__min_samples_split=4, clf__estimator__n_estimators=10, clf__estimator__random_state=None, tfidf__use_idf=False, score=0.2222222222222222, total=  33.8s\n",
      "[CV] clf__estimator__min_samples_split=4, clf__estimator__n_estimators=10, clf__estimator__random_state=42, tfidf__use_idf=True \n",
      "[CV]  clf__estimator__min_samples_split=4, clf__estimator__n_estimators=10, clf__estimator__random_state=42, tfidf__use_idf=True, score=0.21501787842669845, total=  34.7s\n",
      "[CV] clf__estimator__min_samples_split=4, clf__estimator__n_estimators=10, clf__estimator__random_state=42, tfidf__use_idf=True \n",
      "[CV]  clf__estimator__min_samples_split=4, clf__estimator__n_estimators=10, clf__estimator__random_state=42, tfidf__use_idf=True, score=0.21525625744934446, total=  34.6s\n",
      "[CV] clf__estimator__min_samples_split=4, clf__estimator__n_estimators=10, clf__estimator__random_state=42, tfidf__use_idf=True \n",
      "[CV]  clf__estimator__min_samples_split=4, clf__estimator__n_estimators=10, clf__estimator__random_state=42, tfidf__use_idf=True, score=0.2100619933237959, total=  35.1s\n",
      "[CV] clf__estimator__min_samples_split=4, clf__estimator__n_estimators=10, clf__estimator__random_state=42, tfidf__use_idf=True \n",
      "[CV]  clf__estimator__min_samples_split=4, clf__estimator__n_estimators=10, clf__estimator__random_state=42, tfidf__use_idf=True, score=0.21387696709585122, total=  34.8s\n",
      "[CV] clf__estimator__min_samples_split=4, clf__estimator__n_estimators=10, clf__estimator__random_state=42, tfidf__use_idf=True \n",
      "[CV]  clf__estimator__min_samples_split=4, clf__estimator__n_estimators=10, clf__estimator__random_state=42, tfidf__use_idf=True, score=0.2246065808297568, total=  35.1s\n",
      "[CV] clf__estimator__min_samples_split=4, clf__estimator__n_estimators=10, clf__estimator__random_state=42, tfidf__use_idf=False \n",
      "[CV]  clf__estimator__min_samples_split=4, clf__estimator__n_estimators=10, clf__estimator__random_state=42, tfidf__use_idf=False, score=0.20500595947556616, total=  34.3s\n",
      "[CV] clf__estimator__min_samples_split=4, clf__estimator__n_estimators=10, clf__estimator__random_state=42, tfidf__use_idf=False \n",
      "[CV]  clf__estimator__min_samples_split=4, clf__estimator__n_estimators=10, clf__estimator__random_state=42, tfidf__use_idf=False, score=0.2171632896305125, total=  34.1s\n",
      "[CV] clf__estimator__min_samples_split=4, clf__estimator__n_estimators=10, clf__estimator__random_state=42, tfidf__use_idf=False \n",
      "[CV]  clf__estimator__min_samples_split=4, clf__estimator__n_estimators=10, clf__estimator__random_state=42, tfidf__use_idf=False, score=0.21578445398187887, total=  34.8s\n",
      "[CV] clf__estimator__min_samples_split=4, clf__estimator__n_estimators=10, clf__estimator__random_state=42, tfidf__use_idf=False \n",
      "[CV]  clf__estimator__min_samples_split=4, clf__estimator__n_estimators=10, clf__estimator__random_state=42, tfidf__use_idf=False, score=0.21244635193133046, total=  35.2s\n",
      "[CV] clf__estimator__min_samples_split=4, clf__estimator__n_estimators=10, clf__estimator__random_state=42, tfidf__use_idf=False \n",
      "[CV]  clf__estimator__min_samples_split=4, clf__estimator__n_estimators=10, clf__estimator__random_state=42, tfidf__use_idf=False, score=0.2145922746781116, total=  35.4s\n",
      "[CV] clf__estimator__min_samples_split=4, clf__estimator__n_estimators=100, clf__estimator__random_state=None, tfidf__use_idf=True \n",
      "[CV]  clf__estimator__min_samples_split=4, clf__estimator__n_estimators=100, clf__estimator__random_state=None, tfidf__use_idf=True, score=0.24171632896305126, total= 4.8min\n",
      "[CV] clf__estimator__min_samples_split=4, clf__estimator__n_estimators=100, clf__estimator__random_state=None, tfidf__use_idf=True \n",
      "[CV]  clf__estimator__min_samples_split=4, clf__estimator__n_estimators=100, clf__estimator__random_state=None, tfidf__use_idf=True, score=0.23766388557806914, total= 4.7min\n",
      "[CV] clf__estimator__min_samples_split=4, clf__estimator__n_estimators=100, clf__estimator__random_state=None, tfidf__use_idf=True \n",
      "[CV]  clf__estimator__min_samples_split=4, clf__estimator__n_estimators=100, clf__estimator__random_state=None, tfidf__use_idf=True, score=0.2527420123986648, total= 4.5min\n",
      "[CV] clf__estimator__min_samples_split=4, clf__estimator__n_estimators=100, clf__estimator__random_state=None, tfidf__use_idf=True \n",
      "[CV]  clf__estimator__min_samples_split=4, clf__estimator__n_estimators=100, clf__estimator__random_state=None, tfidf__use_idf=True, score=0.2374821173104435, total= 4.3min\n",
      "[CV] clf__estimator__min_samples_split=4, clf__estimator__n_estimators=100, clf__estimator__random_state=None, tfidf__use_idf=True \n",
      "[CV]  clf__estimator__min_samples_split=4, clf__estimator__n_estimators=100, clf__estimator__random_state=None, tfidf__use_idf=True, score=0.248688602765856, total= 4.2min\n",
      "[CV] clf__estimator__min_samples_split=4, clf__estimator__n_estimators=100, clf__estimator__random_state=None, tfidf__use_idf=False \n",
      "[CV]  clf__estimator__min_samples_split=4, clf__estimator__n_estimators=100, clf__estimator__random_state=None, tfidf__use_idf=False, score=0.2364719904648391, total= 4.1min\n",
      "[CV] clf__estimator__min_samples_split=4, clf__estimator__n_estimators=100, clf__estimator__random_state=None, tfidf__use_idf=False \n",
      "[CV]  clf__estimator__min_samples_split=4, clf__estimator__n_estimators=100, clf__estimator__random_state=None, tfidf__use_idf=False, score=0.24171632896305126, total= 4.1min\n",
      "[CV] clf__estimator__min_samples_split=4, clf__estimator__n_estimators=100, clf__estimator__random_state=None, tfidf__use_idf=False \n",
      "[CV]  clf__estimator__min_samples_split=4, clf__estimator__n_estimators=100, clf__estimator__random_state=None, tfidf__use_idf=False, score=0.24320457796852646, total= 4.4min\n",
      "[CV] clf__estimator__min_samples_split=4, clf__estimator__n_estimators=100, clf__estimator__random_state=None, tfidf__use_idf=False \n",
      "[CV]  clf__estimator__min_samples_split=4, clf__estimator__n_estimators=100, clf__estimator__random_state=None, tfidf__use_idf=False, score=0.2408202193609919, total= 4.4min\n",
      "[CV] clf__estimator__min_samples_split=4, clf__estimator__n_estimators=100, clf__estimator__random_state=None, tfidf__use_idf=False \n",
      "[CV]  clf__estimator__min_samples_split=4, clf__estimator__n_estimators=100, clf__estimator__random_state=None, tfidf__use_idf=False, score=0.24391988555078684, total= 4.4min\n",
      "[CV] clf__estimator__min_samples_split=4, clf__estimator__n_estimators=100, clf__estimator__random_state=42, tfidf__use_idf=True \n",
      "[CV]  clf__estimator__min_samples_split=4, clf__estimator__n_estimators=100, clf__estimator__random_state=42, tfidf__use_idf=True, score=0.2395709177592372, total= 4.5min\n",
      "[CV] clf__estimator__min_samples_split=4, clf__estimator__n_estimators=100, clf__estimator__random_state=42, tfidf__use_idf=True \n",
      "[CV]  clf__estimator__min_samples_split=4, clf__estimator__n_estimators=100, clf__estimator__random_state=42, tfidf__use_idf=True, score=0.24076281287246723, total= 4.5min\n",
      "[CV] clf__estimator__min_samples_split=4, clf__estimator__n_estimators=100, clf__estimator__random_state=42, tfidf__use_idf=True \n",
      "[CV]  clf__estimator__min_samples_split=4, clf__estimator__n_estimators=100, clf__estimator__random_state=42, tfidf__use_idf=True, score=0.24964234620886983, total= 4.5min\n",
      "[CV] clf__estimator__min_samples_split=4, clf__estimator__n_estimators=100, clf__estimator__random_state=42, tfidf__use_idf=True \n",
      "[CV]  clf__estimator__min_samples_split=4, clf__estimator__n_estimators=100, clf__estimator__random_state=42, tfidf__use_idf=True, score=0.23152122079160706, total= 4.6min\n",
      "[CV] clf__estimator__min_samples_split=4, clf__estimator__n_estimators=100, clf__estimator__random_state=42, tfidf__use_idf=True \n",
      "[CV]  clf__estimator__min_samples_split=4, clf__estimator__n_estimators=100, clf__estimator__random_state=42, tfidf__use_idf=True, score=0.24654268001907487, total= 4.8min\n",
      "[CV] clf__estimator__min_samples_split=4, clf__estimator__n_estimators=100, clf__estimator__random_state=42, tfidf__use_idf=False \n",
      "[CV]  clf__estimator__min_samples_split=4, clf__estimator__n_estimators=100, clf__estimator__random_state=42, tfidf__use_idf=False, score=0.2393325387365912, total= 4.5min\n",
      "[CV] clf__estimator__min_samples_split=4, clf__estimator__n_estimators=100, clf__estimator__random_state=42, tfidf__use_idf=False \n",
      "[CV]  clf__estimator__min_samples_split=4, clf__estimator__n_estimators=100, clf__estimator__random_state=42, tfidf__use_idf=False, score=0.23718712753277713, total= 4.5min\n",
      "[CV] clf__estimator__min_samples_split=4, clf__estimator__n_estimators=100, clf__estimator__random_state=42, tfidf__use_idf=False \n",
      "[CV]  clf__estimator__min_samples_split=4, clf__estimator__n_estimators=100, clf__estimator__random_state=42, tfidf__use_idf=False, score=0.24010491177873153, total= 4.6min\n",
      "[CV] clf__estimator__min_samples_split=4, clf__estimator__n_estimators=100, clf__estimator__random_state=42, tfidf__use_idf=False \n",
      "[CV]  clf__estimator__min_samples_split=4, clf__estimator__n_estimators=100, clf__estimator__random_state=42, tfidf__use_idf=False, score=0.23891273247496422, total= 4.5min\n",
      "[CV] clf__estimator__min_samples_split=4, clf__estimator__n_estimators=100, clf__estimator__random_state=42, tfidf__use_idf=False \n",
      "[CV]  clf__estimator__min_samples_split=4, clf__estimator__n_estimators=100, clf__estimator__random_state=42, tfidf__use_idf=False, score=0.2491654744873629, total= 4.6min\n",
      "[CV] clf__estimator__min_samples_split=4, clf__estimator__n_estimators=150, clf__estimator__random_state=None, tfidf__use_idf=True \n",
      "[CV]  clf__estimator__min_samples_split=4, clf__estimator__n_estimators=150, clf__estimator__random_state=None, tfidf__use_idf=True, score=0.24410011918951133, total= 6.9min\n",
      "[CV] clf__estimator__min_samples_split=4, clf__estimator__n_estimators=150, clf__estimator__random_state=None, tfidf__use_idf=True \n",
      "[CV]  clf__estimator__min_samples_split=4, clf__estimator__n_estimators=150, clf__estimator__random_state=None, tfidf__use_idf=True, score=0.23909415971394518, total= 6.9min\n",
      "[CV] clf__estimator__min_samples_split=4, clf__estimator__n_estimators=150, clf__estimator__random_state=None, tfidf__use_idf=True \n",
      "[CV]  clf__estimator__min_samples_split=4, clf__estimator__n_estimators=150, clf__estimator__random_state=None, tfidf__use_idf=True, score=0.2505960896518836, total= 7.0min\n",
      "[CV] clf__estimator__min_samples_split=4, clf__estimator__n_estimators=150, clf__estimator__random_state=None, tfidf__use_idf=True \n",
      "[CV]  clf__estimator__min_samples_split=4, clf__estimator__n_estimators=150, clf__estimator__random_state=None, tfidf__use_idf=True, score=0.2358130662851693, total= 6.9min\n",
      "[CV] clf__estimator__min_samples_split=4, clf__estimator__n_estimators=150, clf__estimator__random_state=None, tfidf__use_idf=True \n",
      "[CV]  clf__estimator__min_samples_split=4, clf__estimator__n_estimators=150, clf__estimator__random_state=None, tfidf__use_idf=True, score=0.24606580829756797, total= 7.0min\n",
      "[CV] clf__estimator__min_samples_split=4, clf__estimator__n_estimators=150, clf__estimator__random_state=None, tfidf__use_idf=False \n",
      "[CV]  clf__estimator__min_samples_split=4, clf__estimator__n_estimators=150, clf__estimator__random_state=None, tfidf__use_idf=False, score=0.24076281287246723, total= 6.7min\n",
      "[CV] clf__estimator__min_samples_split=4, clf__estimator__n_estimators=150, clf__estimator__random_state=None, tfidf__use_idf=False \n",
      "[CV]  clf__estimator__min_samples_split=4, clf__estimator__n_estimators=150, clf__estimator__random_state=None, tfidf__use_idf=False, score=0.24195470798569726, total= 6.6min\n",
      "[CV] clf__estimator__min_samples_split=4, clf__estimator__n_estimators=150, clf__estimator__random_state=None, tfidf__use_idf=False \n",
      "[CV]  clf__estimator__min_samples_split=4, clf__estimator__n_estimators=150, clf__estimator__random_state=None, tfidf__use_idf=False, score=0.2470195517405818, total= 6.6min\n",
      "[CV] clf__estimator__min_samples_split=4, clf__estimator__n_estimators=150, clf__estimator__random_state=None, tfidf__use_idf=False \n",
      "[CV]  clf__estimator__min_samples_split=4, clf__estimator__n_estimators=150, clf__estimator__random_state=None, tfidf__use_idf=False, score=0.23843586075345732, total= 6.7min\n",
      "[CV] clf__estimator__min_samples_split=4, clf__estimator__n_estimators=150, clf__estimator__random_state=None, tfidf__use_idf=False \n",
      "[CV]  clf__estimator__min_samples_split=4, clf__estimator__n_estimators=150, clf__estimator__random_state=None, tfidf__use_idf=False, score=0.2470195517405818, total= 6.7min\n",
      "[CV] clf__estimator__min_samples_split=4, clf__estimator__n_estimators=150, clf__estimator__random_state=42, tfidf__use_idf=True \n",
      "[CV]  clf__estimator__min_samples_split=4, clf__estimator__n_estimators=150, clf__estimator__random_state=42, tfidf__use_idf=True, score=0.2431466030989273, total= 6.8min\n",
      "[CV] clf__estimator__min_samples_split=4, clf__estimator__n_estimators=150, clf__estimator__random_state=42, tfidf__use_idf=True \n",
      "[CV]  clf__estimator__min_samples_split=4, clf__estimator__n_estimators=150, clf__estimator__random_state=42, tfidf__use_idf=True, score=0.24457687723480334, total= 6.9min\n",
      "[CV] clf__estimator__min_samples_split=4, clf__estimator__n_estimators=150, clf__estimator__random_state=42, tfidf__use_idf=True \n",
      "[CV]  clf__estimator__min_samples_split=4, clf__estimator__n_estimators=150, clf__estimator__random_state=42, tfidf__use_idf=True, score=0.24988078206962328, total= 6.9min\n",
      "[CV] clf__estimator__min_samples_split=4, clf__estimator__n_estimators=150, clf__estimator__random_state=42, tfidf__use_idf=True \n",
      "[CV]  clf__estimator__min_samples_split=4, clf__estimator__n_estimators=150, clf__estimator__random_state=42, tfidf__use_idf=True, score=0.2358130662851693, total= 6.8min\n",
      "[CV] clf__estimator__min_samples_split=4, clf__estimator__n_estimators=150, clf__estimator__random_state=42, tfidf__use_idf=True \n",
      "[CV]  clf__estimator__min_samples_split=4, clf__estimator__n_estimators=150, clf__estimator__random_state=42, tfidf__use_idf=True, score=0.2501192179303767, total= 6.8min\n",
      "[CV] clf__estimator__min_samples_split=4, clf__estimator__n_estimators=150, clf__estimator__random_state=42, tfidf__use_idf=False \n",
      "[CV]  clf__estimator__min_samples_split=4, clf__estimator__n_estimators=150, clf__estimator__random_state=42, tfidf__use_idf=False, score=0.2393325387365912, total= 6.6min\n",
      "[CV] clf__estimator__min_samples_split=4, clf__estimator__n_estimators=150, clf__estimator__random_state=42, tfidf__use_idf=False \n",
      "[CV]  clf__estimator__min_samples_split=4, clf__estimator__n_estimators=150, clf__estimator__random_state=42, tfidf__use_idf=False, score=0.23885578069129917, total= 6.6min\n",
      "[CV] clf__estimator__min_samples_split=4, clf__estimator__n_estimators=150, clf__estimator__random_state=42, tfidf__use_idf=False \n",
      "[CV]  clf__estimator__min_samples_split=4, clf__estimator__n_estimators=150, clf__estimator__random_state=42, tfidf__use_idf=False, score=0.2446351931330472, total= 6.7min\n",
      "[CV] clf__estimator__min_samples_split=4, clf__estimator__n_estimators=150, clf__estimator__random_state=42, tfidf__use_idf=False \n",
      "[CV]  clf__estimator__min_samples_split=4, clf__estimator__n_estimators=150, clf__estimator__random_state=42, tfidf__use_idf=False, score=0.23557463042441584, total= 6.7min\n",
      "[CV] clf__estimator__min_samples_split=4, clf__estimator__n_estimators=150, clf__estimator__random_state=42, tfidf__use_idf=False \n",
      "[CV]  clf__estimator__min_samples_split=4, clf__estimator__n_estimators=150, clf__estimator__random_state=42, tfidf__use_idf=False, score=0.25131139723414403, total= 6.7min\n"
     ]
    },
    {
     "name": "stderr",
     "output_type": "stream",
     "text": [
      "[Parallel(n_jobs=1)]: Done 120 out of 120 | elapsed: 587.2min finished\n"
     ]
    },
    {
     "data": {
      "text/plain": [
       "GridSearchCV(cv=5, error_score='raise',\n",
       "       estimator=Pipeline(memory=None,\n",
       "     steps=[('vect', CountVectorizer(analyzer='word', binary=False, decode_error='strict',\n",
       "        dtype=<class 'numpy.int64'>, encoding='utf-8', input='content',\n",
       "        lowercase=True, max_df=1.0, max_features=None, min_df=1,\n",
       "        ngram_range=(1, 1), preprocessor=None, stop_words=None,\n",
       "        strip...oob_score=False, random_state=None, verbose=0,\n",
       "            warm_start=False),\n",
       "           n_jobs=1))]),\n",
       "       fit_params=None, iid=True, n_jobs=1,\n",
       "       param_grid={'clf__estimator__min_samples_split': [2, 4], 'clf__estimator__n_estimators': [10, 100, 150], 'clf__estimator__random_state': [None, 42], 'tfidf__use_idf': [True, False]},\n",
       "       pre_dispatch='2*n_jobs', refit=True, return_train_score='warn',\n",
       "       scoring=None, verbose=10)"
      ]
     },
     "execution_count": 31,
     "metadata": {},
     "output_type": "execute_result"
    }
   ],
   "source": [
    "cv.fit(X_train, y_train)"
   ]
  },
  {
   "cell_type": "markdown",
   "metadata": {},
   "source": [
    "### 7. Test your model\n",
    "Show the accuracy, precision, and recall of the tuned model.  \n",
    "\n",
    "Since this project focuses on code quality, process, and  pipelines, there is no minimum performance metric needed to pass. However, make sure to fine tune your models for accuracy, precision and recall to make your project stand out - especially for your portfolio!"
   ]
  },
  {
   "cell_type": "code",
   "execution_count": 32,
   "metadata": {},
   "outputs": [
    {
     "name": "stdout",
     "output_type": "stream",
     "text": [
      "                        precision    recall  f1-score   support\n",
      "\n",
      "               related       0.81      0.97      0.88      3998\n",
      "               request       0.89      0.43      0.58       891\n",
      "                 offer       0.00      0.00      0.00        24\n",
      "           aid_related       0.80      0.60      0.69      2164\n",
      "          medical_help       0.62      0.04      0.07       435\n",
      "      medical_products       0.71      0.04      0.08       279\n",
      "     search_and_rescue       0.50      0.04      0.07       136\n",
      "              security       0.33      0.01      0.02        96\n",
      "              military       0.82      0.06      0.11       158\n",
      "           child_alone       0.00      0.00      0.00         0\n",
      "                 water       0.90      0.21      0.34       335\n",
      "                  food       0.90      0.38      0.53       584\n",
      "               shelter       0.88      0.25      0.39       468\n",
      "              clothing       1.00      0.06      0.11        70\n",
      "                 money       0.89      0.07      0.13       112\n",
      "        missing_people       0.00      0.00      0.00        63\n",
      "              refugees       0.33      0.01      0.02       170\n",
      "                 death       0.87      0.11      0.19       247\n",
      "             other_aid       0.81      0.02      0.04       692\n",
      "infrastructure_related       0.50      0.00      0.01       336\n",
      "             transport       0.79      0.05      0.09       235\n",
      "             buildings       0.81      0.05      0.09       269\n",
      "           electricity       1.00      0.01      0.02       115\n",
      "                 tools       0.00      0.00      0.00        35\n",
      "             hospitals       0.00      0.00      0.00        52\n",
      "                 shops       0.00      0.00      0.00        25\n",
      "           aid_centers       0.00      0.00      0.00        64\n",
      "  other_infrastructure       0.00      0.00      0.00       225\n",
      "       weather_related       0.86      0.62      0.73      1472\n",
      "                floods       0.93      0.33      0.48       431\n",
      "                 storm       0.80      0.41      0.54       479\n",
      "                  fire       1.00      0.02      0.04        53\n",
      "            earthquake       0.90      0.77      0.83       515\n",
      "                  cold       0.78      0.07      0.12       104\n",
      "         other_weather       0.67      0.02      0.04       267\n",
      "         direct_report       0.85      0.35      0.49      1010\n",
      "\n",
      "           avg / total       0.79      0.49      0.53     16609\n",
      "\n"
     ]
    },
    {
     "name": "stderr",
     "output_type": "stream",
     "text": [
      "/usr/local/lib/python3.6/site-packages/sklearn/metrics/classification.py:1135: UndefinedMetricWarning: Precision and F-score are ill-defined and being set to 0.0 in labels with no predicted samples.\n",
      "  'precision', 'predicted', average, warn_for)\n",
      "/usr/local/lib/python3.6/site-packages/sklearn/metrics/classification.py:1137: UndefinedMetricWarning: Recall and F-score are ill-defined and being set to 0.0 in labels with no true samples.\n",
      "  'recall', 'true', average, warn_for)\n"
     ]
    }
   ],
   "source": [
    "y_pred_optimized = cv.predict(X_test)\n",
    "print(classification_report(y_test, y_pred_optimized, target_names=column_names))"
   ]
  },
  {
   "cell_type": "markdown",
   "metadata": {},
   "source": [
    "As we can see, all score has increase, which means the Grid Search totally improve the model, however, they just raise few score point. I think the algorithm is not quite suit for it. I would like to try another algorithm."
   ]
  },
  {
   "cell_type": "markdown",
   "metadata": {},
   "source": [
    "### 8. Try improving your model further. Here are a few ideas:\n",
    "* try other machine learning algorithms\n",
    "* add other features besides the TF-IDF"
   ]
  },
  {
   "cell_type": "code",
   "execution_count": 33,
   "metadata": {},
   "outputs": [
    {
     "data": {
      "text/plain": [
       "{'clf__estimator__min_samples_split': 2,\n",
       " 'clf__estimator__n_estimators': 150,\n",
       " 'clf__estimator__random_state': None,\n",
       " 'tfidf__use_idf': True}"
      ]
     },
     "execution_count": 33,
     "metadata": {},
     "output_type": "execute_result"
    }
   ],
   "source": [
    "# check the best parameter for in case\n",
    "cv.best_params_"
   ]
  },
  {
   "cell_type": "code",
   "execution_count": 8,
   "metadata": {},
   "outputs": [],
   "source": [
    "class StartingVerbExtractor(BaseEstimator, TransformerMixin):\n",
    "\n",
    "    def starting_verb(self, text):\n",
    "        sentence_list = nltk.sent_tokenize(text)\n",
    "        for sentence in sentence_list:\n",
    "            pos_tags = nltk.pos_tag(tokenize(sentence))\n",
    "            first_word, first_tag = pos_tags[0]\n",
    "            if first_tag in ['VB', 'VBP'] or first_word == 'RT':\n",
    "                return True\n",
    "        return False\n",
    "\n",
    "    def fit(self, x, y=None):\n",
    "        return self\n",
    "\n",
    "    def transform(self, X):\n",
    "        X_tagged = pd.Series(X).apply(self.starting_verb)\n",
    "        return pd.DataFrame(X_tagged)"
   ]
  },
  {
   "cell_type": "code",
   "execution_count": 15,
   "metadata": {},
   "outputs": [],
   "source": [
    "pipeline2 = Pipeline([\n",
    "        ('features', FeatureUnion([\n",
    "\n",
    "            ('text_pipeline', Pipeline([\n",
    "                ('vect', CountVectorizer(tokenizer=tokenize)),\n",
    "                ('tfidf', TfidfTransformer(use_idf=True))\n",
    "            ])),\n",
    "            ('starting_verb', StartingVerbExtractor())\n",
    "        ])),\n",
    "        ('clf', MultiOutputClassifier(AdaBoostClassifier(random_state=None, n_estimators=150)))\n",
    "])\n"
   ]
  },
  {
   "cell_type": "code",
   "execution_count": null,
   "metadata": {},
   "outputs": [],
   "source": [
    "# parameters = {\n",
    "#         'features__text_pipeline__vect__ngram_range': ((1, 1), (1, 2)),\n",
    "#         'features__text_pipeline__vect__max_df': (0.5, 0.75, 1.0),\n",
    "#         'features__text_pipeline__vect__max_features': (None, 5000),\n",
    "#     }"
   ]
  },
  {
   "cell_type": "code",
   "execution_count": 16,
   "metadata": {},
   "outputs": [
    {
     "data": {
      "text/plain": [
       "Pipeline(memory=None,\n",
       "     steps=[('features', FeatureUnion(n_jobs=1,\n",
       "       transformer_list=[('text_pipeline', Pipeline(memory=None,\n",
       "     steps=[('vect', CountVectorizer(analyzer='word', binary=False, decode_error='strict',\n",
       "        dtype=<class 'numpy.int64'>, encoding='utf-8', input='content',\n",
       "        lowercase=True, max_d...ator=None,\n",
       "          learning_rate=1.0, n_estimators=150, random_state=None),\n",
       "           n_jobs=1))])"
      ]
     },
     "execution_count": 16,
     "metadata": {},
     "output_type": "execute_result"
    }
   ],
   "source": [
    "pipeline2.fit(X_train, y_train)"
   ]
  },
  {
   "cell_type": "code",
   "execution_count": 17,
   "metadata": {},
   "outputs": [],
   "source": [
    "y_pred2 = pipeline2.predict(X_test)"
   ]
  },
  {
   "cell_type": "code",
   "execution_count": 18,
   "metadata": {},
   "outputs": [
    {
     "name": "stdout",
     "output_type": "stream",
     "text": [
      "                        precision    recall  f1-score   support\n",
      "\n",
      "               related       0.84      0.92      0.88      3998\n",
      "               request       0.77      0.56      0.65       891\n",
      "                 offer       0.00      0.00      0.00        24\n",
      "           aid_related       0.76      0.63      0.69      2164\n",
      "          medical_help       0.60      0.32      0.42       435\n",
      "      medical_products       0.55      0.28      0.37       279\n",
      "     search_and_rescue       0.42      0.16      0.23       136\n",
      "              security       0.15      0.03      0.05        96\n",
      "              military       0.56      0.34      0.42       158\n",
      "           child_alone       0.00      0.00      0.00         0\n",
      "                 water       0.70      0.63      0.66       335\n",
      "                  food       0.80      0.70      0.75       584\n",
      "               shelter       0.73      0.54      0.63       468\n",
      "              clothing       0.64      0.41      0.50        70\n",
      "                 money       0.50      0.29      0.37       112\n",
      "        missing_people       0.67      0.16      0.26        63\n",
      "              refugees       0.49      0.28      0.35       170\n",
      "                 death       0.70      0.46      0.55       247\n",
      "             other_aid       0.43      0.17      0.24       692\n",
      "infrastructure_related       0.39      0.13      0.19       336\n",
      "             transport       0.63      0.21      0.31       235\n",
      "             buildings       0.66      0.38      0.48       269\n",
      "           electricity       0.59      0.25      0.35       115\n",
      "                 tools       0.00      0.00      0.00        35\n",
      "             hospitals       0.30      0.12      0.17        52\n",
      "                 shops       0.11      0.04      0.06        25\n",
      "           aid_centers       0.26      0.09      0.14        64\n",
      "  other_infrastructure       0.33      0.09      0.14       225\n",
      "       weather_related       0.84      0.69      0.76      1472\n",
      "                floods       0.84      0.55      0.67       431\n",
      "                 storm       0.76      0.57      0.65       479\n",
      "                  fire       0.32      0.17      0.22        53\n",
      "            earthquake       0.87      0.77      0.82       515\n",
      "                  cold       0.72      0.32      0.44       104\n",
      "         other_weather       0.41      0.16      0.23       267\n",
      "         direct_report       0.70      0.49      0.58      1010\n",
      "\n",
      "           avg / total       0.72      0.59      0.64     16609\n",
      "\n"
     ]
    },
    {
     "name": "stderr",
     "output_type": "stream",
     "text": [
      "/anaconda3/lib/python3.6/site-packages/sklearn/metrics/classification.py:1135: UndefinedMetricWarning: Precision and F-score are ill-defined and being set to 0.0 in labels with no predicted samples.\n",
      "  'precision', 'predicted', average, warn_for)\n",
      "/anaconda3/lib/python3.6/site-packages/sklearn/metrics/classification.py:1137: UndefinedMetricWarning: Recall and F-score are ill-defined and being set to 0.0 in labels with no true samples.\n",
      "  'recall', 'true', average, warn_for)\n"
     ]
    }
   ],
   "source": [
    "print(classification_report(y_test, y_pred2, target_names=column_names))"
   ]
  },
  {
   "cell_type": "markdown",
   "metadata": {},
   "source": [
    "The score of precision is quite close to the previous model, but another score is extremely higher than the previous one. If I imporve the model, I think it would be better than current model."
   ]
  },
  {
   "cell_type": "markdown",
   "metadata": {},
   "source": [
    "### 9. Export your model as a pickle file"
   ]
  },
  {
   "cell_type": "code",
   "execution_count": 19,
   "metadata": {},
   "outputs": [],
   "source": [
    "# save the model to disk\n",
    "filename = 'classifier.sav'\n",
    "pickle.dump(pipeline2, open(filename, 'wb'))"
   ]
  },
  {
   "cell_type": "markdown",
   "metadata": {},
   "source": [
    "### 10. Use this notebook to complete `train.py`\n",
    "Use the template file attached in the Resources folder to write a script that runs the steps above to create a database and export a model based on a new dataset specified by the user."
   ]
  },
  {
   "cell_type": "code",
   "execution_count": null,
   "metadata": {},
   "outputs": [],
   "source": []
  }
 ],
 "metadata": {
  "kernelspec": {
   "display_name": "Python 3",
   "language": "python",
   "name": "python3"
  },
  "language_info": {
   "codemirror_mode": {
    "name": "ipython",
    "version": 3
   },
   "file_extension": ".py",
   "mimetype": "text/x-python",
   "name": "python",
   "nbconvert_exporter": "python",
   "pygments_lexer": "ipython3",
   "version": "3.6.5"
  }
 },
 "nbformat": 4,
 "nbformat_minor": 2
}
